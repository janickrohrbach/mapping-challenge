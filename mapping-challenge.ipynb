{
 "cells": [
  {
   "cell_type": "markdown",
   "metadata": {},
   "source": [
    "# Crowd AI Mapping Challenge"
   ]
  },
  {
   "cell_type": "markdown",
   "metadata": {},
   "source": [
    "## Data Prep"
   ]
  },
  {
   "cell_type": "code",
   "execution_count": 1,
   "metadata": {},
   "outputs": [],
   "source": [
    "%matplotlib inline\n",
    "from pycocotools.coco import COCO\n",
    "from pycocotools import mask as cocomask\n",
    "import numpy as np\n",
    "import skimage.io as io\n",
    "import matplotlib.pyplot as plt\n",
    "import pylab\n",
    "import random\n",
    "import os"
   ]
  },
  {
   "cell_type": "markdown",
   "metadata": {},
   "source": [
    "### Variables"
   ]
  },
  {
   "cell_type": "code",
   "execution_count": 2,
   "metadata": {},
   "outputs": [],
   "source": [
    "data_directory = \"data/\"\n",
    "annotation_file_template = \"{}/{}/annotation{}.json\"\n",
    "\n",
    "TRAIN_IMAGES_DIRECTORY = \"data/train/images\"\n",
    "TRAIN_ANNOTATIONS_PATH = \"data/train/annotation.json\"\n",
    "TRAIN_ANNOTATIONS_SMALL_PATH = \"data/train/annotation-small.json\"\n",
    "\n",
    "VAL_IMAGES_DIRECTORY = \"data/val/images\"\n",
    "VAL_ANNOTATIONS_PATH = \"data/val/annotation.json\"\n",
    "VAL_ANNOTATIONS_SMALL_PATH = \"data/val/annotation-small.json\"\n",
    "\n",
    "TEST_IMAGES_DIRECTORY = \"data/test_images/\""
   ]
  },
  {
   "cell_type": "markdown",
   "metadata": {},
   "source": [
    "train: This is the Training Set of 280741 tiles (as 300x300 pixel RGB images) of satellite imagery, along with their corresponding annotations in MS-COCO format\n",
    "\n",
    "val: This is the suggested Validation Set of 60317 tiles (as 300x300 pixel RGB images) of satellite imagery, along with their corresponding annotations in MS-COCO format\n",
    "\n",
    "test: This is the Test Set for Round-1, where you are provided with 60697 files (as 300x300 pixel RGB images) and your are required to submit annotations for all these files."
   ]
  },
  {
   "cell_type": "markdown",
   "metadata": {},
   "source": [
    "## Data"
   ]
  },
  {
   "cell_type": "markdown",
   "metadata": {},
   "source": [
    "### Read images"
   ]
  },
  {
   "cell_type": "code",
   "execution_count": 3,
   "metadata": {
    "scrolled": true
   },
   "outputs": [
    {
     "name": "stdout",
     "output_type": "stream",
     "text": [
      "loading annotations into memory...\n",
      "Done (t=31.55s)\n",
      "creating index...\n",
      "index created!\n",
      "loading annotations into memory...\n",
      "Done (t=7.52s)\n",
      "creating index...\n",
      "index created!\n"
     ]
    }
   ],
   "source": [
    "train = COCO(TRAIN_ANNOTATIONS_PATH)\n",
    "valid = COCO(VAL_ANNOTATIONS_PATH)"
   ]
  },
  {
   "cell_type": "code",
   "execution_count": 4,
   "metadata": {},
   "outputs": [],
   "source": [
    "train_ids = train.getImgIds(catIds=train.getCatIds())\n",
    "valid_ids = valid.getImgIds(catIds=valid.getCatIds())"
   ]
  },
  {
   "cell_type": "code",
   "execution_count": 5,
   "metadata": {},
   "outputs": [],
   "source": [
    "train_obj = [train.loadImgs(x) for x in train_ids]\n",
    "valid_obj = [valid.loadImgs(x) for x in valid_ids]"
   ]
  },
  {
   "cell_type": "code",
   "execution_count": 6,
   "metadata": {},
   "outputs": [],
   "source": [
    "train_path = [os.path.join(TRAIN_IMAGES_DIRECTORY, x[0][\"file_name\"]) for x in train_obj]\n",
    "valid_path = [os.path.join(VAL_IMAGES_DIRECTORY, x[0][\"file_name\"]) for x in valid_obj]"
   ]
  },
  {
   "cell_type": "code",
   "execution_count": 7,
   "metadata": {},
   "outputs": [],
   "source": [
    "import glob\n",
    "\n",
    "test_path = [filename for filename in glob.glob('data/test_images/*.jpg')]"
   ]
  },
  {
   "cell_type": "code",
   "execution_count": 8,
   "metadata": {},
   "outputs": [],
   "source": [
    "test_path.sort() "
   ]
  },
  {
   "cell_type": "code",
   "execution_count": 9,
   "metadata": {},
   "outputs": [
    {
     "name": "stderr",
     "output_type": "stream",
     "text": [
      "/cluster/home/rohrbjan/.local/lib/python3.5/site-packages/h5py/__init__.py:36: FutureWarning: Conversion of the second argument of issubdtype from `float` to `np.floating` is deprecated. In future, it will be treated as `np.float64 == np.dtype(float).type`.\n",
      "  from ._conv import register_converters as _register_converters\n"
     ]
    }
   ],
   "source": [
    "# hdf5 file erstellen\n",
    "import h5py\n",
    "\n",
    "train_shape = (len(train_path), 512, 512, 3)\n",
    "valid_shape = (len(valid_path), 512, 512, 3)\n",
    "test_shape = (len(test_path), 512, 512, 3)\n",
    "\n",
    "hdf5_file = h5py.File(\"hdf5/data.h5\", mode='w')"
   ]
  },
  {
   "cell_type": "code",
   "execution_count": 10,
   "metadata": {},
   "outputs": [
    {
     "data": {
      "text/plain": [
       "<HDF5 dataset \"y_valid\": shape (60317, 512, 512, 1), type \"|u1\">"
      ]
     },
     "execution_count": 10,
     "metadata": {},
     "output_type": "execute_result"
    }
   ],
   "source": [
    "hdf5_file.create_dataset(\"x_train\", train_shape, np.uint8)\n",
    "hdf5_file.create_dataset(\"x_valid\", valid_shape, np.uint8)\n",
    "hdf5_file.create_dataset(\"x_test\", test_shape, np.uint8)\n",
    "\n",
    "hdf5_file.create_dataset(\"y_train\", (train_shape[0], train_shape[1], train_shape[2], 1), np.uint8)\n",
    "hdf5_file.create_dataset(\"y_valid\", (valid_shape[0], valid_shape[1], valid_shape[2], 1), np.uint8)"
   ]
  },
  {
   "cell_type": "code",
   "execution_count": 11,
   "metadata": {
    "scrolled": true
   },
   "outputs": [],
   "source": [
    "# bilder eins nach dem anderen ins hdf5 speichern\n",
    "\n",
    "for i in range(len(train_path)):\n",
    "    # print how many images are saved every 1000 images\n",
    "    if i % 1000 == 0 and i > 1:\n",
    "        print('Train data: {}/{}'.format(i, len(train_path)))\n",
    "    # read an image and pad to (500, 500)\n",
    "    path = train_path[i]\n",
    "    img = io.imread(path)\n",
    "    img = np.pad(img, ((106,106), (106,106), (0,0)), mode='constant')\n",
    "    # save the image\n",
    "    hdf5_file[\"x_train\"][i, ...] = img[None]"
   ]
  },
  {
   "cell_type": "code",
   "execution_count": 12,
   "metadata": {
    "scrolled": true
   },
   "outputs": [],
   "source": [
    "for i in range(len(valid_path)):\n",
    "    # print how many images are saved every 1000 images\n",
    "    if i % 1000 == 0 and i > 1:\n",
    "        print('Valid data: {}/{}'.format(i, len(valid_path)))\n",
    "    # read an image and pad to (500, 500)\n",
    "    path = valid_path[i]\n",
    "    img = io.imread(path)\n",
    "    img = np.pad(img, ((106,106), (106,106), (0,0)), mode='constant')\n",
    "    # save the image\n",
    "    hdf5_file[\"x_valid\"][i, ...] = img[None]"
   ]
  },
  {
   "cell_type": "code",
   "execution_count": 13,
   "metadata": {
    "scrolled": true
   },
   "outputs": []
    }
   ],
   "source": [
    "for i in range(len(test_path)):\n",
    "    # print how many images are saved every 1000 images\n",
    "    if i % 1000 == 0 and i > 1:\n",
    "        print('Test data: {}/{}'.format(i, len(test_path)))\n",
    "    # read an image and pad to (500, 500)\n",
    "    path = test_path[i]\n",
    "    img = io.imread(path)\n",
    "    img = np.pad(img, ((106,106), (106,106), (0,0)), mode='constant')\n",
    "    # save the image\n",
    "    hdf5_file[\"x_test\"][i, ...] = img[None]"
   ]
  },
  {
   "cell_type": "markdown",
   "metadata": {},
   "source": [
    "## Read labels"
   ]
  },
  {
   "cell_type": "code",
   "execution_count": 14,
   "metadata": {},
   "outputs": [],
   "source": [
    "def generate_label(x):\n",
    "    img = np.zeros((300,300))\n",
    "    \n",
    "    for ann in x:\n",
    "        rle = cocomask.frPyObjects(ann['segmentation'], 300, 300)\n",
    "        m = cocomask.decode(rle)\n",
    "        m = m.reshape((300, 300))\n",
    "        img = img + m\n",
    "    \n",
    "    return img"
   ]
  },
  {
   "cell_type": "code",
   "execution_count": 15,
   "metadata": {},
   "outputs": [],
   "source": [
    "HDF5for i in range(len(train_ids)):\n",
    "    # print how many images are saved every 1000 images\n",
    "    if i % 1000 == 0 and i > 1:\n",
    "        print('Train data: {}/{}'.format(i, len(train_ids)))\n",
    "    # read an image and pad to (500, 500)\n",
    "    train_annotation_id = train.getAnnIds(imgIds=train_ids[i])\n",
    "    train_annotation = train.loadAnns(train_annotation_id)\n",
    "    y_train = generate_label(train_annotation)\n",
    "    y_train = y_train.reshape(300, 300, 1)\n",
    "    y_train = np.pad(y_train, ((106,106), (106,106), (0,0)), mode='constant')\n",
    "    # save the image\n",
    "    hdf5_file[\"y_train\"][i, ...] = y_train[None]"
   ]
  },
  {
   "cell_type": "code",
   "execution_count": 16,
   "metadata": {
    "scrolled": true
   },
   "outputs": [],
   "source": [
    "for i in range(len(valid_ids)):\n",
    "    # print how many images are saved every 1000 images\n",
    "    if i % 1000 == 0 and i > 1:\n",
    "        print('Valid data: {}/{}'.format(i, len(valid_ids)))\n",
    "    # read an image and pad to (500, 500)\n",
    "    valid_annotation_id = valid.getAnnIds(imgIds=valid_ids[i])\n",
    "    valid_annotation = valid.loadAnns(valid_annotation_id)\n",
    "    y_valid = generate_label(valid_annotation)\n",
    "    y_valid = y_valid.reshape(300, 300, 1)\n",
    "    y_valid = np.pad(y_valid, ((106,106), (106,106), (0,0)), mode='constant')\n",
    "    # save the image\n",
    "    hdf5_file[\"y_valid\"][i, ...] = y_valid[None]"
   ]
  },
  {
   "cell_type": "code",
   "execution_count": 17,
   "metadata": {},
   "outputs": [],
   "source": [
    "hdf5_file.close()"
   ]
  },
  {
   "cell_type": "markdown",
   "metadata": {},
   "source": [
    "# load HDF5 & check"
   ]
  },
  {
   "cell_type": "code",
   "execution_count": 2,
   "metadata": {},
   "outputs": [
    {
     "name": "stderr",
     "output_type": "stream",
     "text": [
      "/cluster/home/rohrbjan/.local/lib/python3.5/site-packages/h5py/__init__.py:36: FutureWarning: Conversion of the second argument of issubdtype from `float` to `np.floating` is deprecated. In future, it will be treated as `np.float64 == np.dtype(float).type`.\n",
      "  from ._conv import register_converters as _register_converters\n",
      "Using TensorFlow backend.\n"
     ]
    }
   ],
   "source": [
    "from keras.utils import HDF5Matrix\n",
    "\n",
    "x_train = HDF5Matrix('hdf5/data.h5', 'x_train')\n",
    "x_valid = HDF5Matrix('hdf5/data.h5', 'x_valid')\n",
    "x_test = HDF5Matrix('hdf5/data.h5', 'x_test')\n",
    "\n",
    "y_train = HDF5Matrix('hdf5/data.h5', 'y_train')\n",
    "y_valid = HDF5Matrix('hdf5/data.h5', 'y_valid')"
   ]
  },
  {
   "cell_type": "code",
   "execution_count": 3,
   "metadata": {},
   "outputs": [
    {
     "data": {
      "image/png": "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\n",
      "text/plain": [
       "<matplotlib.figure.Figure at 0x7fbc3cf29518>"
      ]
     },
     "metadata": {},
     "output_type": "display_data"
    }
   ],
   "source": [
    "fig = plt.figure(figsize=(8, 8))\n",
    "fig.add_subplot(2, 3, 1)\n",
    "plt.imshow(x_train[0].astype('uint8'))\n",
    "fig.add_subplot(2, 3, 2)\n",
    "plt.imshow(x_valid[0].astype('uint8'))\n",
    "fig.add_subplot(2, 3, 3)\n",
    "plt.imshow(x_test[0].astype('uint8'))\n",
    "fig.add_subplot(2, 3, 4)\n",
    "plt.imshow(y_train[0].squeeze())\n",
    "fig.add_subplot(2, 3, 5)\n",
    "plt.imshow(y_valid[0].squeeze())\n",
    "plt.show()"
   ]
  },
  {
   "cell_type": "markdown",
   "metadata": {},
   "source": [
    "# Segmentation Model"
   ]
  },
  {
   "cell_type": "markdown",
   "metadata": {},
   "source": [
    "u-net from here: https://github.com/brine-io/u-net-segmentation-example/blob/master/model/u_net.py"
   ]
  },
  {
   "cell_type": "markdown",
   "metadata": {},
   "source": [
    "Custom losses:"
   ]
  },
  {
   "cell_type": "code",
   "execution_count": 4,
   "metadata": {},
   "outputs": [],
   "source": [
    "from keras.losses import binary_crossentropy\n",
    "import keras.backend as K\n",
    "\n",
    "\n",
    "def dice_coeff(y_true, y_pred):\n",
    "    smooth = 1.\n",
    "    y_true_f = K.flatten(y_true)\n",
    "    y_pred_f = K.flatten(y_pred)\n",
    "    intersection = K.sum(y_true_f * y_pred_f)\n",
    "    score = (2. * intersection + smooth) / (K.sum(y_true_f) + K.sum(y_pred_f) + smooth)\n",
    "    return score\n",
    "\n",
    "\n",
    "def dice_loss(y_true, y_pred):\n",
    "    loss = 1 - dice_coeff(y_true, y_pred)\n",
    "    return loss\n",
    "\n",
    "\n",
    "def bce_dice_loss(y_true, y_pred):\n",
    "    loss = binary_crossentropy(y_true, y_pred) + dice_loss(y_true, y_pred)\n",
    "    return loss"
   ]
  },
  {
   "cell_type": "code",
   "execution_count": 5,
   "metadata": {},
   "outputs": [],
   "source": [
    "from keras.models import Model\n",
    "from keras.layers import Input, concatenate, Conv2D, MaxPooling2D, Activation, UpSampling2D, BatchNormalization\n",
    "from keras.layers import ZeroPadding2D\n",
    "from keras.optimizers import RMSprop\n",
    "\n",
    "input_shape=(512, 512, 3)\n",
    "num_classes=1\n",
    "\n",
    "inputs = Input(shape=input_shape)\n",
    "\n",
    "# 512\n",
    "down0a = Conv2D(16, (3, 3), padding='same')(inputs)\n",
    "down0a = BatchNormalization()(down0a)\n",
    "down0a = Activation('relu')(down0a)\n",
    "down0a = Conv2D(16, (3, 3), padding='same')(down0a)\n",
    "down0a = BatchNormalization()(down0a)\n",
    "down0a = Activation('relu')(down0a)\n",
    "down0a_pool = MaxPooling2D((2, 2), strides=(2, 2))(down0a)\n",
    "# 256\n",
    "down0 = Conv2D(32, (3, 3), padding='same')(down0a_pool)\n",
    "down0 = BatchNormalization()(down0)\n",
    "down0 = Activation('relu')(down0)\n",
    "down0 = Conv2D(32, (3, 3), padding='same')(down0)\n",
    "down0 = BatchNormalization()(down0)\n",
    "down0 = Activation('relu')(down0)\n",
    "down0_pool = MaxPooling2D((2, 2), strides=(2, 2))(down0)\n",
    "# 128\n",
    "down1 = Conv2D(64, (3, 3), padding='same')(down0_pool)\n",
    "down1 = BatchNormalization()(down1)\n",
    "down1 = Activation('relu')(down1)\n",
    "down1 = Conv2D(64, (3, 3), padding='same')(down1)\n",
    "down1 = BatchNormalization()(down1)\n",
    "down1 = Activation('relu')(down1)\n",
    "down1_pool = MaxPooling2D((2, 2), strides=(2, 2))(down1)\n",
    "# 64\n",
    "down2 = Conv2D(128, (3, 3), padding='same')(down1_pool)\n",
    "down2 = BatchNormalization()(down2)\n",
    "down2 = Activation('relu')(down2)\n",
    "down2 = Conv2D(128, (3, 3), padding='same')(down2)\n",
    "down2 = BatchNormalization()(down2)\n",
    "down2 = Activation('relu')(down2)\n",
    "down2_pool = MaxPooling2D((2, 2), strides=(2, 2))(down2)\n",
    "# 32\n",
    "down3 = Conv2D(256, (3, 3), padding='same')(down2_pool)\n",
    "down3 = BatchNormalization()(down3)\n",
    "down3 = Activation('relu')(down3)\n",
    "down3 = Conv2D(256, (3, 3), padding='same')(down3)\n",
    "down3 = BatchNormalization()(down3)\n",
    "down3 = Activation('relu')(down3)\n",
    "down3_pool = MaxPooling2D((2, 2), strides=(2, 2))(down3)\n",
    "# 16\n",
    "down4 = Conv2D(512, (3, 3), padding='same')(down3_pool)\n",
    "down4 = BatchNormalization()(down4)\n",
    "down4 = Activation('relu')(down4)\n",
    "down4 = Conv2D(512, (3, 3), padding='same')(down4)\n",
    "down4 = BatchNormalization()(down4)\n",
    "down4 = Activation('relu')(down4)\n",
    "down4_pool = MaxPooling2D((2, 2), strides=(2, 2))(down4)\n",
    "# 8\n",
    "center = Conv2D(1024, (3, 3), padding='same')(down4_pool)\n",
    "center = BatchNormalization()(center)\n",
    "center = Activation('relu')(center)\n",
    "center = Conv2D(1024, (3, 3), padding='same')(center)\n",
    "center = BatchNormalization()(center)\n",
    "center = Activation('relu')(center)\n",
    "# center\n",
    "up4 = UpSampling2D((2, 2))(center)\n",
    "up4 = concatenate([down4, up4], axis=3)\n",
    "up4 = Conv2D(512, (3, 3), padding='same')(up4)\n",
    "up4 = BatchNormalization()(up4)\n",
    "up4 = Activation('relu')(up4)\n",
    "up4 = Conv2D(512, (3, 3), padding='same')(up4)\n",
    "up4 = BatchNormalization()(up4)\n",
    "up4 = Activation('relu')(up4)\n",
    "up4 = Conv2D(512, (3, 3), padding='same')(up4)\n",
    "up4 = BatchNormalization()(up4)\n",
    "up4 = Activation('relu')(up4)\n",
    "# 16\n",
    "up3 = UpSampling2D((2, 2))(up4)\n",
    "up3 = concatenate([down3, up3], axis=3)\n",
    "up3 = Conv2D(256, (3, 3), padding='same')(up3)\n",
    "up3 = BatchNormalization()(up3)\n",
    "up3 = Activation('relu')(up3)\n",
    "up3 = Conv2D(256, (3, 3), padding='same')(up3)\n",
    "up3 = BatchNormalization()(up3)\n",
    "up3 = Activation('relu')(up3)\n",
    "up3 = Conv2D(256, (3, 3), padding='same')(up3)\n",
    "up3 = BatchNormalization()(up3)\n",
    "up3 = Activation('relu')(up3)\n",
    "# 32\n",
    "up2 = UpSampling2D((2, 2))(up3)\n",
    "up2 = concatenate([down2, up2], axis=3)\n",
    "up2 = Conv2D(128, (3, 3), padding='same')(up2)\n",
    "up2 = BatchNormalization()(up2)\n",
    "up2 = Activation('relu')(up2)\n",
    "up2 = Conv2D(128, (3, 3), padding='same')(up2)\n",
    "up2 = BatchNormalization()(up2)\n",
    "up2 = Activation('relu')(up2)\n",
    "up2 = Conv2D(128, (3, 3), padding='same')(up2)\n",
    "up2 = BatchNormalization()(up2)\n",
    "up2 = Activation('relu')(up2)\n",
    "# 64\n",
    "up1 = UpSampling2D((2, 2))(up2)\n",
    "up1 = concatenate([down1, up1], axis=3)\n",
    "up1 = Conv2D(64, (3, 3), padding='same')(up1)\n",
    "up1 = BatchNormalization()(up1)\n",
    "up1 = Activation('relu')(up1)\n",
    "up1 = Conv2D(64, (3, 3), padding='same')(up1)\n",
    "up1 = BatchNormalization()(up1)\n",
    "up1 = Activation('relu')(up1)\n",
    "up1 = Conv2D(64, (3, 3), padding='same')(up1)\n",
    "up1 = BatchNormalization()(up1)\n",
    "up1 = Activation('relu')(up1)\n",
    "# 128\n",
    "up0 = UpSampling2D((2, 2))(up1)\n",
    "up0 = concatenate([down0, up0], axis=3)\n",
    "up0 = Conv2D(32, (3, 3), padding='same')(up0)\n",
    "up0 = BatchNormalization()(up0)\n",
    "up0 = Activation('relu')(up0)\n",
    "up0 = Conv2D(32, (3, 3), padding='same')(up0)\n",
    "up0 = BatchNormalization()(up0)\n",
    "up0 = Activation('relu')(up0)\n",
    "up0 = Conv2D(32, (3, 3), padding='same')(up0)\n",
    "up0 = BatchNormalization()(up0)\n",
    "up0 = Activation('relu')(up0)\n",
    "# 256\n",
    "up0a = UpSampling2D((2, 2))(up0)\n",
    "up0a = concatenate([down0a, up0a], axis=3)\n",
    "up0a = Conv2D(16, (3, 3), padding='same')(up0a)\n",
    "up0a = BatchNormalization()(up0a)\n",
    "up0a = Activation('relu')(up0a)\n",
    "up0a = Conv2D(16, (3, 3), padding='same')(up0a)\n",
    "up0a = BatchNormalization()(up0a)\n",
    "up0a = Activation('relu')(up0a)\n",
    "up0a = Conv2D(16, (3, 3), padding='same')(up0a)\n",
    "up0a = BatchNormalization()(up0a)\n",
    "up0a = Activation('relu')(up0a)\n",
    "# 512\n",
    "classify = Conv2D(num_classes, (1, 1), activation='sigmoid')(up0a)\n",
    "model = Model(inputs=inputs, outputs=classify)\n",
    "model.compile(optimizer=RMSprop(lr=0.0001), loss=bce_dice_loss, metrics=[dice_coeff, 'accuracy'])"
   ]
  },
  {
   "cell_type": "code",
   "execution_count": 5,
   "metadata": {},
   "outputs": [
    {
     "name": "stdout",
     "output_type": "stream",
     "text": [
      "__________________________________________________________________________________________________\n",
      "Layer (type)                    Output Shape         Param #     Connected to                     \n",
      "==================================================================================================\n",
      "input_1 (InputLayer)            (None, 512, 512, 3)  0                                            \n",
      "__________________________________________________________________________________________________\n",
      "conv2d_1 (Conv2D)               (None, 512, 512, 16) 448         input_1[0][0]                    \n",
      "__________________________________________________________________________________________________\n",
      "batch_normalization_1 (BatchNor (None, 512, 512, 16) 64          conv2d_1[0][0]                   \n",
      "__________________________________________________________________________________________________\n",
      "activation_1 (Activation)       (None, 512, 512, 16) 0           batch_normalization_1[0][0]      \n",
      "__________________________________________________________________________________________________\n",
      "conv2d_2 (Conv2D)               (None, 512, 512, 16) 2320        activation_1[0][0]               \n",
      "__________________________________________________________________________________________________\n",
      "batch_normalization_2 (BatchNor (None, 512, 512, 16) 64          conv2d_2[0][0]                   \n",
      "__________________________________________________________________________________________________\n",
      "activation_2 (Activation)       (None, 512, 512, 16) 0           batch_normalization_2[0][0]      \n",
      "__________________________________________________________________________________________________\n",
      "max_pooling2d_1 (MaxPooling2D)  (None, 256, 256, 16) 0           activation_2[0][0]               \n",
      "__________________________________________________________________________________________________\n",
      "conv2d_3 (Conv2D)               (None, 256, 256, 32) 4640        max_pooling2d_1[0][0]            \n",
      "__________________________________________________________________________________________________\n",
      "batch_normalization_3 (BatchNor (None, 256, 256, 32) 128         conv2d_3[0][0]                   \n",
      "__________________________________________________________________________________________________\n",
      "activation_3 (Activation)       (None, 256, 256, 32) 0           batch_normalization_3[0][0]      \n",
      "__________________________________________________________________________________________________\n",
      "conv2d_4 (Conv2D)               (None, 256, 256, 32) 9248        activation_3[0][0]               \n",
      "__________________________________________________________________________________________________\n",
      "batch_normalization_4 (BatchNor (None, 256, 256, 32) 128         conv2d_4[0][0]                   \n",
      "__________________________________________________________________________________________________\n",
      "activation_4 (Activation)       (None, 256, 256, 32) 0           batch_normalization_4[0][0]      \n",
      "__________________________________________________________________________________________________\n",
      "max_pooling2d_2 (MaxPooling2D)  (None, 128, 128, 32) 0           activation_4[0][0]               \n",
      "__________________________________________________________________________________________________\n",
      "conv2d_5 (Conv2D)               (None, 128, 128, 64) 18496       max_pooling2d_2[0][0]            \n",
      "__________________________________________________________________________________________________\n",
      "batch_normalization_5 (BatchNor (None, 128, 128, 64) 256         conv2d_5[0][0]                   \n",
      "__________________________________________________________________________________________________\n",
      "activation_5 (Activation)       (None, 128, 128, 64) 0           batch_normalization_5[0][0]      \n",
      "__________________________________________________________________________________________________\n",
      "conv2d_6 (Conv2D)               (None, 128, 128, 64) 36928       activation_5[0][0]               \n",
      "__________________________________________________________________________________________________\n",
      "batch_normalization_6 (BatchNor (None, 128, 128, 64) 256         conv2d_6[0][0]                   \n",
      "__________________________________________________________________________________________________\n",
      "activation_6 (Activation)       (None, 128, 128, 64) 0           batch_normalization_6[0][0]      \n",
      "__________________________________________________________________________________________________\n",
      "max_pooling2d_3 (MaxPooling2D)  (None, 64, 64, 64)   0           activation_6[0][0]               \n",
      "__________________________________________________________________________________________________\n",
      "conv2d_7 (Conv2D)               (None, 64, 64, 128)  73856       max_pooling2d_3[0][0]            \n",
      "__________________________________________________________________________________________________\n",
      "batch_normalization_7 (BatchNor (None, 64, 64, 128)  512         conv2d_7[0][0]                   \n",
      "__________________________________________________________________________________________________\n",
      "activation_7 (Activation)       (None, 64, 64, 128)  0           batch_normalization_7[0][0]      \n",
      "__________________________________________________________________________________________________\n",
      "conv2d_8 (Conv2D)               (None, 64, 64, 128)  147584      activation_7[0][0]               \n",
      "__________________________________________________________________________________________________\n",
      "batch_normalization_8 (BatchNor (None, 64, 64, 128)  512         conv2d_8[0][0]                   \n",
      "__________________________________________________________________________________________________\n",
      "activation_8 (Activation)       (None, 64, 64, 128)  0           batch_normalization_8[0][0]      \n",
      "__________________________________________________________________________________________________\n",
      "max_pooling2d_4 (MaxPooling2D)  (None, 32, 32, 128)  0           activation_8[0][0]               \n",
      "__________________________________________________________________________________________________\n",
      "conv2d_9 (Conv2D)               (None, 32, 32, 256)  295168      max_pooling2d_4[0][0]            \n",
      "__________________________________________________________________________________________________\n",
      "batch_normalization_9 (BatchNor (None, 32, 32, 256)  1024        conv2d_9[0][0]                   \n",
      "__________________________________________________________________________________________________\n",
      "activation_9 (Activation)       (None, 32, 32, 256)  0           batch_normalization_9[0][0]      \n",
      "__________________________________________________________________________________________________\n",
      "conv2d_10 (Conv2D)              (None, 32, 32, 256)  590080      activation_9[0][0]               \n",
      "__________________________________________________________________________________________________\n",
      "batch_normalization_10 (BatchNo (None, 32, 32, 256)  1024        conv2d_10[0][0]                  \n",
      "__________________________________________________________________________________________________\n",
      "activation_10 (Activation)      (None, 32, 32, 256)  0           batch_normalization_10[0][0]     \n",
      "__________________________________________________________________________________________________\n",
      "max_pooling2d_5 (MaxPooling2D)  (None, 16, 16, 256)  0           activation_10[0][0]              \n",
      "__________________________________________________________________________________________________\n",
      "conv2d_11 (Conv2D)              (None, 16, 16, 512)  1180160     max_pooling2d_5[0][0]            \n",
      "__________________________________________________________________________________________________\n",
      "batch_normalization_11 (BatchNo (None, 16, 16, 512)  2048        conv2d_11[0][0]                  \n",
      "__________________________________________________________________________________________________\n",
      "activation_11 (Activation)      (None, 16, 16, 512)  0           batch_normalization_11[0][0]     \n",
      "__________________________________________________________________________________________________\n",
      "conv2d_12 (Conv2D)              (None, 16, 16, 512)  2359808     activation_11[0][0]              \n",
      "__________________________________________________________________________________________________\n",
      "batch_normalization_12 (BatchNo (None, 16, 16, 512)  2048        conv2d_12[0][0]                  \n",
      "__________________________________________________________________________________________________\n",
      "activation_12 (Activation)      (None, 16, 16, 512)  0           batch_normalization_12[0][0]     \n",
      "__________________________________________________________________________________________________\n",
      "max_pooling2d_6 (MaxPooling2D)  (None, 8, 8, 512)    0           activation_12[0][0]              \n",
      "__________________________________________________________________________________________________\n",
      "conv2d_13 (Conv2D)              (None, 8, 8, 1024)   4719616     max_pooling2d_6[0][0]            \n",
      "__________________________________________________________________________________________________\n",
      "batch_normalization_13 (BatchNo (None, 8, 8, 1024)   4096        conv2d_13[0][0]                  \n",
      "__________________________________________________________________________________________________\n",
      "activation_13 (Activation)      (None, 8, 8, 1024)   0           batch_normalization_13[0][0]     \n",
      "__________________________________________________________________________________________________\n",
      "conv2d_14 (Conv2D)              (None, 8, 8, 1024)   9438208     activation_13[0][0]              \n",
      "__________________________________________________________________________________________________\n",
      "batch_normalization_14 (BatchNo (None, 8, 8, 1024)   4096        conv2d_14[0][0]                  \n",
      "__________________________________________________________________________________________________\n",
      "activation_14 (Activation)      (None, 8, 8, 1024)   0           batch_normalization_14[0][0]     \n",
      "__________________________________________________________________________________________________\n",
      "up_sampling2d_1 (UpSampling2D)  (None, 16, 16, 1024) 0           activation_14[0][0]              \n",
      "__________________________________________________________________________________________________\n",
      "concatenate_1 (Concatenate)     (None, 16, 16, 1536) 0           activation_12[0][0]              \n",
      "                                                                 up_sampling2d_1[0][0]            \n",
      "__________________________________________________________________________________________________\n",
      "conv2d_15 (Conv2D)              (None, 16, 16, 512)  7078400     concatenate_1[0][0]              \n",
      "__________________________________________________________________________________________________\n",
      "batch_normalization_15 (BatchNo (None, 16, 16, 512)  2048        conv2d_15[0][0]                  \n",
      "__________________________________________________________________________________________________\n",
      "activation_15 (Activation)      (None, 16, 16, 512)  0           batch_normalization_15[0][0]     \n",
      "__________________________________________________________________________________________________\n",
      "conv2d_16 (Conv2D)              (None, 16, 16, 512)  2359808     activation_15[0][0]              \n",
      "__________________________________________________________________________________________________\n",
      "batch_normalization_16 (BatchNo (None, 16, 16, 512)  2048        conv2d_16[0][0]                  \n",
      "__________________________________________________________________________________________________\n",
      "activation_16 (Activation)      (None, 16, 16, 512)  0           batch_normalization_16[0][0]     \n",
      "__________________________________________________________________________________________________\n",
      "conv2d_17 (Conv2D)              (None, 16, 16, 512)  2359808     activation_16[0][0]              \n",
      "__________________________________________________________________________________________________\n",
      "batch_normalization_17 (BatchNo (None, 16, 16, 512)  2048        conv2d_17[0][0]                  \n",
      "__________________________________________________________________________________________________\n",
      "activation_17 (Activation)      (None, 16, 16, 512)  0           batch_normalization_17[0][0]     \n",
      "__________________________________________________________________________________________________\n",
      "up_sampling2d_2 (UpSampling2D)  (None, 32, 32, 512)  0           activation_17[0][0]              \n",
      "__________________________________________________________________________________________________\n",
      "concatenate_2 (Concatenate)     (None, 32, 32, 768)  0           activation_10[0][0]              \n",
      "                                                                 up_sampling2d_2[0][0]            \n",
      "__________________________________________________________________________________________________\n",
      "conv2d_18 (Conv2D)              (None, 32, 32, 256)  1769728     concatenate_2[0][0]              \n",
      "__________________________________________________________________________________________________\n",
      "batch_normalization_18 (BatchNo (None, 32, 32, 256)  1024        conv2d_18[0][0]                  \n",
      "__________________________________________________________________________________________________\n",
      "activation_18 (Activation)      (None, 32, 32, 256)  0           batch_normalization_18[0][0]     \n",
      "__________________________________________________________________________________________________\n",
      "conv2d_19 (Conv2D)              (None, 32, 32, 256)  590080      activation_18[0][0]              \n",
      "__________________________________________________________________________________________________\n",
      "batch_normalization_19 (BatchNo (None, 32, 32, 256)  1024        conv2d_19[0][0]                  \n",
      "__________________________________________________________________________________________________\n",
      "activation_19 (Activation)      (None, 32, 32, 256)  0           batch_normalization_19[0][0]     \n",
      "__________________________________________________________________________________________________\n",
      "conv2d_20 (Conv2D)              (None, 32, 32, 256)  590080      activation_19[0][0]              \n",
      "__________________________________________________________________________________________________\n",
      "batch_normalization_20 (BatchNo (None, 32, 32, 256)  1024        conv2d_20[0][0]                  \n",
      "__________________________________________________________________________________________________\n",
      "activation_20 (Activation)      (None, 32, 32, 256)  0           batch_normalization_20[0][0]     \n",
      "__________________________________________________________________________________________________\n",
      "up_sampling2d_3 (UpSampling2D)  (None, 64, 64, 256)  0           activation_20[0][0]              \n",
      "__________________________________________________________________________________________________\n",
      "concatenate_3 (Concatenate)     (None, 64, 64, 384)  0           activation_8[0][0]               \n",
      "                                                                 up_sampling2d_3[0][0]            \n",
      "__________________________________________________________________________________________________\n",
      "conv2d_21 (Conv2D)              (None, 64, 64, 128)  442496      concatenate_3[0][0]              \n",
      "__________________________________________________________________________________________________\n",
      "batch_normalization_21 (BatchNo (None, 64, 64, 128)  512         conv2d_21[0][0]                  \n",
      "__________________________________________________________________________________________________\n",
      "activation_21 (Activation)      (None, 64, 64, 128)  0           batch_normalization_21[0][0]     \n",
      "__________________________________________________________________________________________________\n",
      "conv2d_22 (Conv2D)              (None, 64, 64, 128)  147584      activation_21[0][0]              \n",
      "__________________________________________________________________________________________________\n",
      "batch_normalization_22 (BatchNo (None, 64, 64, 128)  512         conv2d_22[0][0]                  \n",
      "__________________________________________________________________________________________________\n",
      "activation_22 (Activation)      (None, 64, 64, 128)  0           batch_normalization_22[0][0]     \n",
      "__________________________________________________________________________________________________\n",
      "conv2d_23 (Conv2D)              (None, 64, 64, 128)  147584      activation_22[0][0]              \n",
      "__________________________________________________________________________________________________\n",
      "batch_normalization_23 (BatchNo (None, 64, 64, 128)  512         conv2d_23[0][0]                  \n",
      "__________________________________________________________________________________________________\n",
      "activation_23 (Activation)      (None, 64, 64, 128)  0           batch_normalization_23[0][0]     \n",
      "__________________________________________________________________________________________________\n",
      "up_sampling2d_4 (UpSampling2D)  (None, 128, 128, 128 0           activation_23[0][0]              \n",
      "__________________________________________________________________________________________________\n",
      "concatenate_4 (Concatenate)     (None, 128, 128, 192 0           activation_6[0][0]               \n",
      "                                                                 up_sampling2d_4[0][0]            \n",
      "__________________________________________________________________________________________________\n",
      "conv2d_24 (Conv2D)              (None, 128, 128, 64) 110656      concatenate_4[0][0]              \n",
      "__________________________________________________________________________________________________\n",
      "batch_normalization_24 (BatchNo (None, 128, 128, 64) 256         conv2d_24[0][0]                  \n",
      "__________________________________________________________________________________________________\n",
      "activation_24 (Activation)      (None, 128, 128, 64) 0           batch_normalization_24[0][0]     \n",
      "__________________________________________________________________________________________________\n",
      "conv2d_25 (Conv2D)              (None, 128, 128, 64) 36928       activation_24[0][0]              \n",
      "__________________________________________________________________________________________________\n",
      "batch_normalization_25 (BatchNo (None, 128, 128, 64) 256         conv2d_25[0][0]                  \n",
      "__________________________________________________________________________________________________\n",
      "activation_25 (Activation)      (None, 128, 128, 64) 0           batch_normalization_25[0][0]     \n",
      "__________________________________________________________________________________________________\n",
      "conv2d_26 (Conv2D)              (None, 128, 128, 64) 36928       activation_25[0][0]              \n",
      "__________________________________________________________________________________________________\n",
      "batch_normalization_26 (BatchNo (None, 128, 128, 64) 256         conv2d_26[0][0]                  \n",
      "__________________________________________________________________________________________________\n",
      "activation_26 (Activation)      (None, 128, 128, 64) 0           batch_normalization_26[0][0]     \n",
      "__________________________________________________________________________________________________\n",
      "up_sampling2d_5 (UpSampling2D)  (None, 256, 256, 64) 0           activation_26[0][0]              \n",
      "__________________________________________________________________________________________________\n",
      "concatenate_5 (Concatenate)     (None, 256, 256, 96) 0           activation_4[0][0]               \n",
      "                                                                 up_sampling2d_5[0][0]            \n",
      "__________________________________________________________________________________________________\n",
      "conv2d_27 (Conv2D)              (None, 256, 256, 32) 27680       concatenate_5[0][0]              \n",
      "__________________________________________________________________________________________________\n",
      "batch_normalization_27 (BatchNo (None, 256, 256, 32) 128         conv2d_27[0][0]                  \n",
      "__________________________________________________________________________________________________\n",
      "activation_27 (Activation)      (None, 256, 256, 32) 0           batch_normalization_27[0][0]     \n",
      "__________________________________________________________________________________________________\n",
      "conv2d_28 (Conv2D)              (None, 256, 256, 32) 9248        activation_27[0][0]              \n",
      "__________________________________________________________________________________________________\n",
      "batch_normalization_28 (BatchNo (None, 256, 256, 32) 128         conv2d_28[0][0]                  \n",
      "__________________________________________________________________________________________________\n",
      "activation_28 (Activation)      (None, 256, 256, 32) 0           batch_normalization_28[0][0]     \n",
      "__________________________________________________________________________________________________\n",
      "conv2d_29 (Conv2D)              (None, 256, 256, 32) 9248        activation_28[0][0]              \n",
      "__________________________________________________________________________________________________\n",
      "batch_normalization_29 (BatchNo (None, 256, 256, 32) 128         conv2d_29[0][0]                  \n",
      "__________________________________________________________________________________________________\n",
      "activation_29 (Activation)      (None, 256, 256, 32) 0           batch_normalization_29[0][0]     \n",
      "__________________________________________________________________________________________________\n",
      "up_sampling2d_6 (UpSampling2D)  (None, 512, 512, 32) 0           activation_29[0][0]              \n",
      "__________________________________________________________________________________________________\n",
      "concatenate_6 (Concatenate)     (None, 512, 512, 48) 0           activation_2[0][0]               \n",
      "                                                                 up_sampling2d_6[0][0]            \n",
      "__________________________________________________________________________________________________\n",
      "conv2d_30 (Conv2D)              (None, 512, 512, 16) 6928        concatenate_6[0][0]              \n",
      "__________________________________________________________________________________________________\n",
      "batch_normalization_30 (BatchNo (None, 512, 512, 16) 64          conv2d_30[0][0]                  \n",
      "__________________________________________________________________________________________________\n",
      "activation_30 (Activation)      (None, 512, 512, 16) 0           batch_normalization_30[0][0]     \n",
      "__________________________________________________________________________________________________\n",
      "conv2d_31 (Conv2D)              (None, 512, 512, 16) 2320        activation_30[0][0]              \n",
      "__________________________________________________________________________________________________\n",
      "batch_normalization_31 (BatchNo (None, 512, 512, 16) 64          conv2d_31[0][0]                  \n",
      "__________________________________________________________________________________________________\n",
      "activation_31 (Activation)      (None, 512, 512, 16) 0           batch_normalization_31[0][0]     \n",
      "__________________________________________________________________________________________________\n",
      "conv2d_32 (Conv2D)              (None, 512, 512, 16) 2320        activation_31[0][0]              \n",
      "__________________________________________________________________________________________________\n",
      "batch_normalization_32 (BatchNo (None, 512, 512, 16) 64          conv2d_32[0][0]                  \n",
      "__________________________________________________________________________________________________\n",
      "activation_32 (Activation)      (None, 512, 512, 16) 0           batch_normalization_32[0][0]     \n",
      "__________________________________________________________________________________________________\n",
      "conv2d_33 (Conv2D)              (None, 512, 512, 1)  17          activation_32[0][0]              \n",
      "==================================================================================================\n",
      "Total params: 34,632,753\n",
      "Trainable params: 34,618,577\n",
      "Non-trainable params: 14,176\n",
      "__________________________________________________________________________________________________\n"
     ]
    }
   ],
   "source": [
    "model.summary()"
   ]
  },
  {
   "cell_type": "code",
   "execution_count": 9,
   "metadata": {},
   "outputs": [],
   "source": [
    "import keras\n",
    "\n",
    "#save model after every epoch in \"Checkpoints/8_facesl/model_1_fc/\"-folder\n",
    "os.makedirs(\"checkpoints/\",exist_ok=True)       \n",
    "checkpointer = keras.callbacks.ModelCheckpoint( \n",
    "        filepath =  \"checkpoints/checkpoints\"+\"weights_epoch_{epoch:03d}-{loss:.4f}-{dice_coeff:.4f}-{acc:.4f}-{val_loss:.4f}-{val_dice_coeff:.4f}-{val_acc:.4f}.hdf5\",\n",
    "        verbose = 1, \n",
    "        save_best_only = False,\n",
    "        period = 1)"
   ]
  },
  {
   "cell_type": "markdown",
   "metadata": {},
   "source": [
    "## Fit Model"
   ]
  },
  {
   "cell_type": "code",
   "execution_count": null,
   "metadata": {
    "collapsed": true
   },
   "outputs": [
    {
     "name": "stdout",
     "output_type": "stream",
     "text": [
      "Train on 280741 samples, validate on 60317 samples\n",
      "Epoch 1/25\n",
      "280741/280741 [==============================] - 18724s 67ms/step - loss: 0.2456 - dice_coeff: 0.8263 - acc: 0.9801 - val_loss: 0.1949 - val_dice_coeff: 0.8671 - val_acc: 0.9817\n",
      "\n",
      "Epoch 00001: saving model to checkpointsweights_epoch_001-0.19.hdf5\n",
      "Epoch 2/25\n",
      "280741/280741 [==============================] - 19168s 68ms/step - loss: 0.1441 - dice_coeff: 0.8999 - acc: 0.9863 - val_loss: 0.1443 - val_dice_coeff: 0.9015 - val_acc: 0.9863\n",
      "\n",
      "Epoch 00002: saving model to checkpointsweights_epoch_002-0.14.hdf5\n",
      "Epoch 3/25\n",
      "280741/280741 [==============================] - 17897s 64ms/step - loss: 0.1283 - dice_coeff: 0.9109 - acc: 0.9878 - val_loss: 0.1276 - val_dice_coeff: 0.9119 - val_acc: 0.9878\n",
      "\n",
      "Epoch 00003: saving model to checkpointsweights_epoch_003-0.13.hdf5\n",
      "Epoch 4/25\n",
      "280741/280741 [==============================] - 17136s 61ms/step - loss: 0.1196 - dice_coeff: 0.9168 - acc: 0.9886 - val_loss: 0.1224 - val_dice_coeff: 0.9156 - val_acc: 0.9884\n",
      "\n",
      "Epoch 00004: saving model to checkpointsweights_epoch_004-0.12.hdf5\n",
      "Epoch 5/25\n",
      "117770/280741 [===========>..................] - ETA: 2:27:51 - loss: 0.1143 - dice_coeff: 0.9205 - acc: 0.9891"
     ]
    },
    {
     "name": "stderr",
     "output_type": "stream",
     "text": [
      "IOPub message rate exceeded.\n",
      "The notebook server will temporarily stop sending output\n",
      "to the client in order to avoid crashing it.\n",
      "To change this limit, set the config variable\n",
      "`--NotebookApp.iopub_msg_rate_limit`.\n",
      "\n",
      "Current values:\n",
      "NotebookApp.iopub_msg_rate_limit=1000.0 (msgs/sec)\n",
      "NotebookApp.rate_limit_window=3.0 (secs)\n",
      "\n"
     ]
    },
    {
     "name": "stdout",
     "output_type": "stream",
     "text": [
      "280741/280741 [==============================] - 17675s 63ms/step - loss: 0.1132 - dice_coeff: 0.9212 - acc: 0.9892 - val_loss: 0.1254 - val_dice_coeff: 0.9133 - val_acc: 0.9880\n",
      "\n",
      "Epoch 00005: saving model to checkpointsweights_epoch_005-0.13.hdf5\n",
      "Epoch 6/25\n",
      "280741/280741 [==============================] - 17251s 61ms/step - loss: 0.1080 - dice_coeff: 0.9247 - acc: 0.9897 - val_loss: 0.1110 - val_dice_coeff: 0.9239 - val_acc: 0.9895\n",
      "\n",
      "Epoch 00006: saving model to checkpointsweights_epoch_006-0.11.hdf5\n",
      "Epoch 7/25\n",
      "275420/280741 [============================>.] - ETA: 4:47 - loss: 0.1036 - dice_coeff: 0.9278 - acc: 0.9901"
     ]
    }
   ],
   "source": [
    "history = model.fit(x=x_train, y=y_train, batch_size=10, epochs=150, verbose=1, validation_data=(x_valid, y_valid),\n",
    "                   callbacks=[checkpointer], shuffle=\"batch\")"
   ]
  },
  {
   "cell_type": "code",
   "execution_count": 7,
   "metadata": {},
   "outputs": [],
   "source": [
    "from keras.models import load_model\n",
    "model = load_model(\"checkpoints/checkpointsweights_epoch_200-0.0088-0.9936-0.9991-0.0217-0.9872-0.9981.hdf5\", \n",
    "                   custom_objects={'bce_dice_loss': bce_dice_loss, \n",
    "                                  'dice_coeff': dice_coeff})"
   ]
  },
  {
   "cell_type": "code",
   "execution_count": null,
   "metadata": {},
   "outputs": [
    {
     "name": "stdout",
     "output_type": "stream",
     "text": [
      "Train on 280741 samples, validate on 60317 samples\n",
      "Epoch 201/250\n",
      "  1590/280741 [..............................] - ETA: 4:16:02 - loss: 0.0094 - dice_coeff: 0.9935 - acc: 0.9991"
     ]
    }
   ],
   "source": [
    "history = model.fit(x=x_train, y=y_train, batch_size=10, epochs=250, verbose=1, validation_data=(x_valid, y_valid),\n",
    "                   callbacks=[checkpointer], shuffle=\"batch\", initial_epoch = 200)"
   ]
  },
  {
   "cell_type": "markdown",
   "metadata": {},
   "source": [
    "# Predictions"
   ]
  },
  {
   "cell_type": "code",
   "execution_count": 4,
   "metadata": {},
   "outputs": [],
   "source": [
    "from keras.models import load_model\n",
    "model = load_model(\"checkpoints/checkpointsweights_epoch_149-0.0115-0.9918-0.9988-0.0240-0.9854-0.9979.hdf5\", \n",
    "                   custom_objects={'bce_dice_loss': bce_dice_loss, \n",
    "                                  'dice_coeff': dice_coeff})"
   ]
  },
  {
   "cell_type": "code",
   "execution_count": 5,
   "metadata": {},
   "outputs": [],
   "source": [
    "import h5py\n",
    "hdf5_file = h5py.File(\"hdf5/preds.h5\", mode='w')"
   ]
  },
  {
   "cell_type": "code",
   "execution_count": 7,
   "metadata": {},
   "outputs": [],
   "source": [
    "pred_epoch = 'preds149'"
   ]
  },
  {
   "cell_type": "code",
   "execution_count": 13,
   "metadata": {},
   "outputs": [
    {
     "data": {
      "text/plain": [
       "<HDF5 dataset \"preds149\": shape (60697, 512, 512, 1), type \"|b1\">"
      ]
     },
     "execution_count": 13,
     "metadata": {},
     "output_type": "execute_result"
    }
   ],
   "source": [
    "hdf5_file.create_dataset(pred_epoch, (x_test.shape[0], x_test.shape[1], x_test.shape[2], 1), np.bool_)"
   ]
  },
  {
   "cell_type": "code",
   "execution_count": 14,
   "metadata": {
    "scrolled": true
   },
   "outputs": [],
   "source": [
    "threshold = 0.5\n",
    "for i in range(x_test.shape[0]):\n",
    "    # print how many images are saved every 1000 images\n",
    "    if i % 1000 == 0 and i > 1:\n",
    "        print('Preds: {}/{}'.format(i, x_test.shape[0]))\n",
    "    mask = model.predict(x_test[i].reshape(1, 512, 512, 3)) >= threshold\n",
    "    # save the image\n",
    "    hdf5_file[pred_epoch][i, ...] = mask"
   ]
  },
  {
   "cell_type": "code",
   "execution_count": 15,
   "metadata": {},
   "outputs": [],
   "source": [
    "hdf5_file.close()"
   ]
  },
  {
   "cell_type": "code",
   "execution_count": 8,
   "metadata": {},
   "outputs": [],
   "source": [
    "from keras.utils import HDF5Matrix\n",
    "preds = HDF5Matrix('hdf5/preds.h5', pred_epoch)"
   ]
  },
  {
   "cell_type": "code",
   "execution_count": 15,
   "metadata": {},
   "outputs": [],
   "source": [
    "def crop_center(img,cropx = 300, cropy = 300):\n",
    "    y,x = img.shape\n",
    "    startx = x//2-(cropx//2)\n",
    "    starty = y//2-(cropy//2)    \n",
    "    return img[starty:starty+cropy,startx:startx+cropx]"
   ]
  },
  {
   "cell_type": "code",
   "execution_count": 16,
   "metadata": {},
   "outputs": [],
   "source": [
    "preds_crop = np.array([crop_center(x.squeeze()) for x in preds])"
   ]
  },
  {
   "cell_type": "code",
   "execution_count": 19,
   "metadata": {},
   "outputs": [],
   "source": [
    "#from scipy.ndimage.morphology import binary_fill_holes"
   ]
  },
  {
   "cell_type": "code",
   "execution_count": 20,
   "metadata": {},
   "outputs": [],
   "source": [
    "#preds_holes_filled = []\n",
    "#\n",
    "#for i in range(x_test.shape[0]):\n",
    "#    # print how many images are saved every 1000 images\n",
    "#    if i % 1000 == 0 and i > 1:\n",
    "#        print('Preds: {}/{}'.format(i, x_test.shape[0]))\n",
    "#    preds_holes_filled.append(binary_fill_holes(preds_crop[i]))"
   ]
  },
  {
   "cell_type": "code",
   "execution_count": 17,
   "metadata": {},
   "outputs": [],
   "source": [
    "from scipy.ndimage import label\n",
    "pred_labeled = [label(x) for x in preds_crop]"
   ]
  },
  {
   "cell_type": "code",
   "execution_count": 18,
   "metadata": {},
   "outputs": [],
   "source": [
    "def bbox(mask):\n",
    "    rows = np.any(mask, axis=1)\n",
    "    cols = np.any(mask, axis=0)\n",
    "    ymin, ymax = np.where(rows)[0][[0, -1]]\n",
    "    xmin, xmax = np.where(cols)[0][[0, -1]]\n",
    "\n",
    "    return [float(xmin), float(ymin), float(xmax - xmin), float(ymax-ymin)]"
   ]
  },
  {
   "cell_type": "code",
   "execution_count": 19,
   "metadata": {},
   "outputs": [],
   "source": [
    "def single_annotation(image_id, single_mask):\n",
    "    _result = {}\n",
    "    _result[\"image_id\"] = image_id\n",
    "    _result[\"category_id\"] = 100 # as 100 is the category_id of Building\n",
    "    \n",
    "    _result[\"score\"] = 1.0 #float(np.mean(preds_crop[image_id, single_mask])) # a score between 0 and 1\n",
    "    \n",
    "    _mask = cocomask.encode(np.asfortranarray(single_mask.astype(\"uint8\")))\n",
    "    _mask[\"counts\"] = _mask[\"counts\"].decode(\"UTF-8\")\n",
    "    \n",
    "    _result[\"segmentation\"] = _mask\n",
    "    \n",
    "    _result[\"bbox\"] = bbox(single_mask)\n",
    "    return _result"
   ]
  },
  {
   "cell_type": "code",
   "execution_count": 20,
   "metadata": {},
   "outputs": [
    {
     "name": "stdout",
     "output_type": "stream",
     "text": [
      "Progress 100.0%\r"
     ]
    }
   ],
   "source": [
    "pred_ann = []\n",
    "\n",
    "for i in range(x_test.shape[0]):\n",
    "    for m in range(pred_labeled[i][1]):\n",
    "        if np.sum(pred_labeled[i][0] == m + 1) < 25:\n",
    "            continue\n",
    "        else:\n",
    "            pred_ann.append(single_annotation(i, pred_labeled[i][0] == m + 1))\n",
    "        \n",
    "    print(\"Progress {:2.1%}\".format((i + 1) / x_test.shape[0]), end=\"\\r\")"
   ]
  },
  {
   "cell_type": "code",
   "execution_count": 15,
   "metadata": {},
   "outputs": [],
   "source": [
    "import json\n",
    "fp = open(\"predictions149.json\", \"w\")\n",
    "fp.write(json.dumps(pred_ann))\n",
    "fp.close()"
   ]
  },
  {
   "cell_type": "markdown",
   "metadata": {},
   "source": [
    "# Augmented predictions"
   ]
  },
  {
   "cell_type": "code",
   "execution_count": 8,
   "metadata": {},
   "outputs": [],
   "source": [
    "def augment_image(image):\n",
    "    for img in [image, np.rollaxis(image, 1, 0)]:\n",
    "        for [x_step, y_step] in [[1, 1], [-1, 1], [1, -1], [-1, -1]]:\n",
    "            yield img[::x_step, ::y_step, :]"
   ]
  },
  {
   "cell_type": "code",
   "execution_count": 9,
   "metadata": {},
   "outputs": [],
   "source": [
    "def predict_augmented(image):\n",
    "    \n",
    "    preds_stack = []\n",
    "    \n",
    "    for img in augment_image(image):\n",
    "        preds_stack.append(model.predict(img.reshape(1, 512, 512, 3)))\n",
    "        \n",
    "    preds_stack = np.array(preds_stack)\n",
    "    \n",
    "    return preds_stack.reshape(8, 512, 512, 1)"
   ]
  },
  {
   "cell_type": "code",
   "execution_count": 376,
   "metadata": {},
   "outputs": [],
   "source": [
    "tmp = predict_augmented(x_test[0])"
   ]
  },
  {
   "cell_type": "code",
   "execution_count": 377,
   "metadata": {},
   "outputs": [
    {
     "data": {
      "image/png": "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\n",
      "text/plain": [
       "<matplotlib.figure.Figure at 0x7f540980a048>"
      ]
     },
     "metadata": {},
     "output_type": "display_data"
    }
   ],
   "source": [
    "fig = plt.figure(figsize=(8, 8))\n",
    "fig.add_subplot(4, 4, 1)\n",
    "plt.imshow(tmp[0].squeeze())\n",
    "fig.add_subplot(4, 4, 2)\n",
    "plt.imshow(tmp[1].squeeze())\n",
    "fig.add_subplot(4, 4, 3)\n",
    "plt.imshow(tmp[2].squeeze())\n",
    "fig.add_subplot(4, 4, 4)\n",
    "plt.imshow(tmp[3].squeeze())\n",
    "fig.add_subplot(4, 4, 5)\n",
    "plt.imshow(tmp[4].squeeze())\n",
    "fig.add_subplot(4, 4, 6)\n",
    "plt.imshow(tmp[5].squeeze())\n",
    "fig.add_subplot(4, 4, 7)\n",
    "plt.imshow(tmp[6].squeeze())\n",
    "fig.add_subplot(4, 4, 8)\n",
    "plt.imshow(tmp[7].squeeze())\n",
    "plt.show()"
   ]
  },
  {
   "cell_type": "code",
   "execution_count": 10,
   "metadata": {},
   "outputs": [],
   "source": [
    "def stitch_preds(preds_stack):\n",
    "    \n",
    "    threshold = 0.5\n",
    "    xy_step = [[1, 1], [-1, 1], [1, -1], [-1, -1], [1, 1], [-1, 1], [1, -1], [-1, -1]]\n",
    "    mask = []\n",
    "    \n",
    "    for i, img in enumerate(preds_stack):\n",
    "        \n",
    "        if i >= 4:\n",
    "            mask.append(np.moveaxis(img[::xy_step[i][0], ::xy_step[i][1], :], 1, 0))\n",
    "            \n",
    "        else:\n",
    "            mask.append(img[::xy_step[i][0], ::xy_step[i][1], :])\n",
    "    \n",
    "    return np.mean(np.array(mask).reshape(8, 512, 512, 1), axis=0) >= threshold"
   ]
  },
  {
   "cell_type": "code",
   "execution_count": 379,
   "metadata": {},
   "outputs": [],
   "source": [
    "abc = stitch_preds(tmp)"
   ]
  },
  {
   "cell_type": "code",
   "execution_count": 380,
   "metadata": {},
   "outputs": [
    {
     "data": {
      "text/plain": [
       "<matplotlib.image.AxesImage at 0x7f54081edb38>"
      ]
     },
     "execution_count": 380,
     "metadata": {},
     "output_type": "execute_result"
    },
    {
     "data": {
      "image/png": "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\n",
      "text/plain": [
       "<matplotlib.figure.Figure at 0x7f5409e6b5f8>"
      ]
     },
     "metadata": {},
     "output_type": "display_data"
    }
   ],
   "source": [
    "plt.imshow(abc.squeeze())"
   ]
  },
  {
   "cell_type": "code",
   "execution_count": 6,
   "metadata": {},
   "outputs": [
    {
     "data": {
      "text/plain": [
       "<HDF5 dataset \"preds_149_augmented\": shape (60697, 512, 512, 1), type \"|b1\">"
      ]
     },
     "execution_count": 6,
     "metadata": {},
     "output_type": "execute_result"
    }
   ],
   "source": [
    "hdf5_file.create_dataset('preds_149_augmented', (x_test.shape[0], x_test.shape[1], x_test.shape[2], 1), np.bool_)"
   ]
  },
  {
   "cell_type": "code",
   "execution_count": 12,
   "metadata": {},
   "outputs": [],
   "source": [
    "threshold = 0.5\n",
    "for i in range(x_test.shape[0]):\n",
    "    # print how many images are saved every 1000 images\n",
    "    if i % 1000 == 0 and i > 1:\n",
    "        print('Preds: {}/{}'.format(i, x_test.shape[0]))\n",
    "    mask = stitch_preds(predict_augmented(x_test[i]))\n",
    "    # save the image\n",
    "    hdf5_file['preds_149_augmented'][i, ...] = mask"
   ]
  },
  {
   "cell_type": "code",
   "execution_count": 13,
   "metadata": {},
   "outputs": [],
   "source": [
    "hdf5_file.close()"
   ]
  },
  {
   "cell_type": "code",
   "execution_count": 14,
   "metadata": {},
   "outputs": [],
   "source": [
    "from keras.utils import HDF5Matrix\n",
    "preds = HDF5Matrix('hdf5/preds.h5', 'preds_149_augmented')"
   ]
  },
  {
   "cell_type": "code",
   "execution_count": 21,
   "metadata": {},
   "outputs": [],
   "source": [
    "import json\n",
    "fp = open(\"predictions149_augmented.json\", \"w\")\n",
    "fp.write(json.dumps(pred_ann))\n",
    "fp.close()"
   ]
  },
  {
   "cell_type": "code",
   "execution_count": null,
   "metadata": {},
   "outputs": [],
   "source": []
  },
  {
   "cell_type": "markdown",
   "metadata": {},
   "source": [
    "# Submission"
   ]
  },
  {
   "cell_type": "code",
   "execution_count": null,
   "metadata": {},
   "outputs": [],
   "source": [
    "#!pip install crowdai --user --upgrade"
   ]
  },
  {
   "cell_type": "code",
   "execution_count": null,
   "metadata": {},
   "outputs": [],
   "source": [
    "#! pip install Jinja==2.10 --user"
   ]
  },
  {
   "cell_type": "code",
   "execution_count": null,
   "metadata": {},
   "outputs": [],
   "source": [
    "#import crowdai\n",
    "#api_key = \"\"\n",
    "#\n",
    "#challenge = crowdai.Challenge(\"crowdAIMappingChallenge\", api_key)\n",
    "#result = challenge.submit(\"predictions.json\")\n",
    "#print(result)"
   ]
  }
 ],
 "metadata": {
  "kernelspec": {
   "display_name": "Python 3",
   "language": "python",
   "name": "python3"
  },
  "language_info": {
   "codemirror_mode": {
    "name": "ipython",
    "version": 3
   },
   "file_extension": ".py",
   "mimetype": "text/x-python",
   "name": "python",
   "nbconvert_exporter": "python",
   "pygments_lexer": "ipython3",
   "version": "3.5.2"
  }
 },
 "nbformat": 4,
 "nbformat_minor": 2
}
